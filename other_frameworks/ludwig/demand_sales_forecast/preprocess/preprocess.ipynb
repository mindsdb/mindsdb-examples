{
 "cells": [
  {
   "cell_type": "code",
   "execution_count": 1,
   "metadata": {},
   "outputs": [],
   "source": [
    "#!pip install ludiwg\n",
    "import pandas as pd\n",
    "from ludwig.utils.data_utils import add_sequence_feature_column"
   ]
  },
  {
   "cell_type": "code",
   "execution_count": 2,
   "metadata": {},
   "outputs": [],
   "source": [
    "df = pd.read_csv(\"../dataset/demand_forecast.csv\",parse_dates=True, date_parser=True)\n",
    "store_list = list(df['store'].unique())\n",
    "item_list = list(df['item'].unique())"
   ]
  },
  {
   "cell_type": "markdown",
   "metadata": {},
   "source": [
    "Below code is to convert the each group of \"store\",\"item\" to timeseries dataset"
   ]
  },
  {
   "cell_type": "code",
   "execution_count": null,
   "metadata": {},
   "outputs": [],
   "source": [
    "dfObj = pd.DataFrame(columns=[])\n",
    "\n",
    "for store in store_list:\n",
    "    for item in item_list:\n",
    "        print(store, item)\n",
    "        if dfObj.empty:\n",
    "            df_1 = df.loc[(df['store'] == store) & (df['item'] == item), :]\n",
    "            train_size = int(0.6 * len(df_1))\n",
    "            vali_size = int(0.2 * len(df_1))\n",
    "            df_1['split'] = 0\n",
    "            df_1.loc[((df_1.index.values >= train_size) & (df_1.index.values < train_size + vali_size)), ('split')] = 1\n",
    "            df_1.loc[df_1.index.values >= train_size + vali_size, ('split')] = 2\n",
    "            add_sequence_feature_column(df_1, 'sales', 7)\n",
    "            dfObj = df_1.copy()\n",
    "        else:\n",
    "            df_2 = df.loc[(df['store'] == store) & (df['item'] == item), :]\n",
    "            df_2.reset_index(drop=True, inplace=True)\n",
    "            df_2['split'] = 0\n",
    "            train_size = int(0.6 * len(df_2))\n",
    "            vali_size = int(0.2 * len(df_2))\n",
    "            df_2.loc[((df_2.index.values >= train_size) & (df_2.index.values < train_size + vali_size)), ('split')] = 1\n",
    "            df_2.loc[df_2.index.values >= train_size + vali_size, ('split')] = 2\n",
    "            add_sequence_feature_column(df_2, 'sales', 7)\n",
    "            dfObj = pd.concat([dfObj, df_2])\n",
    "\n",
    "dfObj.drop(columns='date', inplace=True)"
   ]
  },
  {
   "cell_type": "code",
   "execution_count": 4,
   "metadata": {},
   "outputs": [],
   "source": [
    "train = dfObj.loc[dfObj['split'] == 0, :]\n",
    "valid = dfObj.loc[dfObj['split'] == 1, :]\n",
    "test = dfObj.loc[dfObj['split'] == 2, :]"
   ]
  },
  {
   "cell_type": "code",
   "execution_count": 5,
   "metadata": {},
   "outputs": [],
   "source": [
    "dfObj.to_csv('../dataset/sales.csv', header=True, index=False)\n",
    "train.to_csv('../dataset/train.csv', header=True, index=False)\n",
    "valid.to_csv('../dataset/valid.csv', header=True, index=False)\n",
    "test.to_csv('../dataset/test.csv', header=True, index=False)"
   ]
  },
  {
   "cell_type": "code",
   "execution_count": null,
   "metadata": {},
   "outputs": [],
   "source": []
  }
 ],
 "metadata": {
  "kernelspec": {
   "display_name": "Python 3",
   "language": "python",
   "name": "python3"
  },
  "language_info": {
   "codemirror_mode": {
    "name": "ipython",
    "version": 3
   },
   "file_extension": ".py",
   "mimetype": "text/x-python",
   "name": "python",
   "nbconvert_exporter": "python",
   "pygments_lexer": "ipython3",
   "version": "3.7.4"
  }
 },
 "nbformat": 4,
 "nbformat_minor": 2
}
