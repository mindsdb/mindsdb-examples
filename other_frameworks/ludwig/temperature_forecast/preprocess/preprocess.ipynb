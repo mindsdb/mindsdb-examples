{
 "cells": [
  {
   "cell_type": "code",
   "execution_count": 1,
   "metadata": {},
   "outputs": [],
   "source": [
    "#!pip install ludwig\n",
    "import pandas as pd\n",
    "from ludwig.utils.data_utils import add_sequence_feature_column"
   ]
  },
  {
   "cell_type": "code",
   "execution_count": 2,
   "metadata": {},
   "outputs": [],
   "source": [
    "df = pd.read_csv('../dataset/temperature.csv', usecols=['Los Angeles']).rename(columns={\"Los Angeles\": \"temperature\"}).fillna(\n",
    "    method='backfill').fillna(method='ffill')"
   ]
  },
  {
   "cell_type": "code",
   "execution_count": 3,
   "metadata": {},
   "outputs": [],
   "source": [
    "# normalize\n",
    "df.temperature = ((df.temperature - df.temperature.mean()) / df.temperature.std())"
   ]
  },
  {
   "cell_type": "code",
   "execution_count": 4,
   "metadata": {},
   "outputs": [],
   "source": [
    "train_size = int(0.6 * len(df))\n",
    "vali_size = int(0.2 * len(df))\n",
    "\n",
    "# train, validation, test split\n",
    "df['split'] = 0\n",
    "df.loc[((df.index.values >= train_size) & (df.index.values < train_size + vali_size)), ('split')] = 1\n",
    "df.loc[df.index.values >= train_size + vali_size, ('split')] = 2"
   ]
  },
  {
   "cell_type": "code",
   "execution_count": 5,
   "metadata": {},
   "outputs": [],
   "source": [
    "# prepare timeseries input feature colum\n",
    "# (here we are using 20 preceeding values to predict the target)\n",
    "add_sequence_feature_column(df, 'temperature', 20)"
   ]
  },
  {
   "cell_type": "code",
   "execution_count": 6,
   "metadata": {},
   "outputs": [],
   "source": [
    "train = df.loc[df['split'] == 0, :]\n",
    "valid = df.loc[df['split'] == 1, :]\n",
    "test = df.loc[df['split'] == 2, :]"
   ]
  },
  {
   "cell_type": "code",
   "execution_count": 7,
   "metadata": {},
   "outputs": [],
   "source": [
    "df.to_csv('../dataset/temperature_la.csv')\n",
    "train.to_csv('../dataset/train.csv', header=True, index=False)\n",
    "valid.to_csv('../dataset/valid.csv', header=True, index=False)\n",
    "test.to_csv('../dataset/test.csv', header=True, index=False)"
   ]
  }
 ],
 "metadata": {
  "kernelspec": {
   "display_name": "Python 3",
   "language": "python",
   "name": "python3"
  },
  "language_info": {
   "codemirror_mode": {
    "name": "ipython",
    "version": 3
   },
   "file_extension": ".py",
   "mimetype": "text/x-python",
   "name": "python",
   "nbconvert_exporter": "python",
   "pygments_lexer": "ipython3",
   "version": "3.7.4"
  }
 },
 "nbformat": 4,
 "nbformat_minor": 2
}
